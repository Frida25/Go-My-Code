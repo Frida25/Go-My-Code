{
 "cells": [
  {
   "cell_type": "code",
   "execution_count": 1,
   "id": "0e538c91",
   "metadata": {},
   "outputs": [
    {
     "name": "stdout",
     "output_type": "stream",
     "text": [
      "35\n"
     ]
    }
   ],
   "source": [
    "list1=[20, 35, 19]\n",
    "\n",
    "sorted_list = sorted(list1)\n",
    "\n",
    "result = sorted_list[-1]\n",
    "\n",
    "print(result)"
   ]
  },
  {
   "cell_type": "code",
   "execution_count": 2,
   "id": "ee3ae5ee",
   "metadata": {},
   "outputs": [
    {
     "name": "stdout",
     "output_type": "stream",
     "text": [
      "(50, 30)\n"
     ]
    }
   ],
   "source": [
    "def calcul(a,b):\n",
    "    return a+b,a-b\n",
    "a=40\n",
    "b=10\n",
    "print (calcul(a,b))"
   ]
  },
  {
   "cell_type": "code",
   "execution_count": 2,
   "id": "46ce3619",
   "metadata": {},
   "outputs": [
    {
     "name": "stdout",
     "output_type": "stream",
     "text": [
      "How many numbers: 2\n",
      "Enter number 6\n",
      "Enter number 3\n",
      "la somme des nombres paires est 3\n",
      "le produit des nombres impaires est 6\n",
      "None\n"
     ]
    }
   ],
   "source": [
    "list = []\n",
    "y = int(input('How many numbers: '))\n",
    "for i in range(y):\n",
    "    numbers = int(input('Enter number '))\n",
    "    list.append(numbers)\n",
    "    \n",
    "def sum(list) :\n",
    "    s=0\n",
    "    for i in list:\n",
    "        s=s+i\n",
    "        return s\n",
    "    \n",
    "def prod(mylist):\n",
    "    k=1\n",
    "    for x in mylist:\n",
    "        k=k*x\n",
    "    return k\n",
    "    \n",
    "def paire_impaire (list):\n",
    "    list1=[]\n",
    "    list2=[]\n",
    "    i=0\n",
    "    for x in list:\n",
    "        b=i%2\n",
    "        i+=1\n",
    "        if b==0:\n",
    "            list1.append(x)\n",
    "        else :\n",
    "            list2.append(x)\n",
    "            \n",
    "    print(\"la somme des nombres paires est\",sum(list2))\n",
    "    print(\"le produit des nombres impaires est\",prod(list1))\n",
    "\n",
    "print(paire_impaire(list))\n",
    "    "
   ]
  },
  {
   "cell_type": "code",
   "execution_count": 3,
   "id": "84778958",
   "metadata": {},
   "outputs": [
    {
     "name": "stdout",
     "output_type": "stream",
     "text": [
      "green-red-yellow-black-white\n",
      "black-green-red-white-yellow\n"
     ]
    }
   ],
   "source": [
    "items=[n for n in input().split('-')]\n",
    "items.sort()\n",
    "print('-'.join(items))"
   ]
  },
  {
   "cell_type": "code",
   "execution_count": null,
   "id": "34b697cd",
   "metadata": {},
   "outputs": [],
   "source": []
  }
 ],
 "metadata": {
  "kernelspec": {
   "display_name": "Python 3",
   "language": "python",
   "name": "python3"
  },
  "language_info": {
   "codemirror_mode": {
    "name": "ipython",
    "version": 3
   },
   "file_extension": ".py",
   "mimetype": "text/x-python",
   "name": "python",
   "nbconvert_exporter": "python",
   "pygments_lexer": "ipython3",
   "version": "3.8.8"
  }
 },
 "nbformat": 4,
 "nbformat_minor": 5
}
