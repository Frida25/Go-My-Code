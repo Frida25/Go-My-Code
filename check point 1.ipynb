{
 "cells": [
  {
   "cell_type": "code",
   "execution_count": 3,
   "id": "58d99420",
   "metadata": {},
   "outputs": [
    {
     "name": "stdout",
     "output_type": "stream",
     "text": [
      "Input your First Name : frida\n",
      "Input your Last Name : benamor\n",
      "benamor frida\n"
     ]
    }
   ],
   "source": [
    "firstname = input(\"Input your First Name : \")\n",
    "lastname = input(\"Input your Last Name : \")\n",
    "print ( lastname +\" \" + firstname) #\" \" pour avoir avoir un espace entre les noms"
   ]
  },
  {
   "cell_type": "code",
   "execution_count": 2,
   "id": "f34ae368",
   "metadata": {},
   "outputs": [
    {
     "name": "stdout",
     "output_type": "stream",
     "text": [
      "Enter a number n : 5\n",
      "615\n"
     ]
    }
   ],
   "source": [
    "a = int(input(\"Enter a number n : \"))\n",
    "b = a+ a*10+a +a*100+a*10+5\n",
    "print (b)"
   ]
  },
  {
   "cell_type": "code",
   "execution_count": 4,
   "id": "6ba4f582",
   "metadata": {},
   "outputs": [
    {
     "name": "stdout",
     "output_type": "stream",
     "text": [
      "Enter a number : 4\n",
      "This is an even number.\n"
     ]
    }
   ],
   "source": [
    "a = int(input(\"Enter a number : \"))\n",
    "if a % 2 == 0: #pour que a(entier) divisible par 2\n",
    "   print(\"This is an even number.\")\n",
    "else:\n",
    "   print(\"This is an odd number.\")"
   ]
  },
  {
   "cell_type": "code",
   "execution_count": 5,
   "id": "659020d0",
   "metadata": {},
   "outputs": [
    {
     "name": "stdout",
     "output_type": "stream",
     "text": [
      "2002 2009 2016 2023 2037 2044 2051 2058 2072 2079 2086 2093 2107 2114 2121 2128 2142 2149 2156 2163 2177 2184 2191 2198 2212 2219 2226 2233 2247 2254 2261 2268 2282 2289 2296 2303 2317 2324 2331 2338 2352 2359 2366 2373 2387 2394 2401 2408 2422 2429 2436 2443 2457 2464 2471 2478 2492 2499 2506 2513 2527 2534 2541 2548 2562 2569 2576 2583 2597 2604 2611 2618 2632 2639 2646 2653 2667 2674 2681 2688 2702 2709 2716 2723 2737 2744 2751 2758 2772 2779 2786 2793 2807 2814 2821 2828 2842 2849 2856 2863 2877 2884 2891 2898 2912 2919 2926 2933 2947 2954 2961 2968 2982 2989 2996 3003 3017 3024 3031 3038 3052 3059 3066 3073 3087 3094 3101 3108 3122 3129 3136 3143 3157 3164 3171 3178 3192 3199 "
     ]
    }
   ],
   "source": [
    "for x in range(2000 , 3201):\n",
    "    begin=\" \"  #pour faire des espaces entres les nombres\n",
    "    if x % 7 == 0 and x % 5 != 0 : #divisble par 7 mais pas(!=) par 5\n",
    "        print(x, end=\" \") #pour que ce soit sur la meme ligne"
   ]
  },
  {
   "cell_type": "code",
   "execution_count": 3,
   "id": "7fc40ddd",
   "metadata": {},
   "outputs": [
    {
     "name": "stdout",
     "output_type": "stream",
     "text": [
      "Enter a number : 8\n",
      "40320\n"
     ]
    }
   ],
   "source": [
    "def fact(a):\n",
    "    \n",
    "    if a==0:   \n",
    "        return 1  #si c'est O il retourne 1\n",
    "    \n",
    "    return a * fact(a - 1)\n",
    "\n",
    "a = int(input(\"Enter a number : \"))\n",
    "\n",
    "print(fact(a))\n"
   ]
  },
  {
   "cell_type": "code",
   "execution_count": 15,
   "id": "26372cb9",
   "metadata": {},
   "outputs": [
    {
     "name": "stdout",
     "output_type": "stream",
     "text": [
      "Entrez un mothello team\n",
      "hlota\n"
     ]
    }
   ],
   "source": [
    "mot=input(\"Entrez un mot\")\n",
    "n=len(mot)\n",
    "nouveau=\"\"\n",
    "i=0\n",
    "while i<len(mot)-1:\n",
    "    if i%2==0:\n",
    "            nouveau=nouveau+mot[i]\n",
    "    i=i+1\n",
    "print(nouveau)"
   ]
  },
  {
   "cell_type": "code",
   "execution_count": 17,
   "id": "f5483c3c",
   "metadata": {},
   "outputs": [
    {
     "name": "stdout",
     "output_type": "stream",
     "text": [
      "Enter a number : 10\n",
      "9.0\n"
     ]
    }
   ],
   "source": [
    "a = int(input(\"Enter a number : \"))\n",
    "if a > 500 :\n",
    "    a = a * 0.5\n",
    "elif 200<a<500 :\n",
    "    a = a * 0.7\n",
    "elif a < 200 :\n",
    "    a = a * 0.9\n",
    "print(a)\n",
    "    \n",
    "    "
   ]
  },
  {
   "cell_type": "code",
   "execution_count": null,
   "id": "779279fb",
   "metadata": {},
   "outputs": [],
   "source": []
  }
 ],
 "metadata": {
  "kernelspec": {
   "display_name": "Python 3",
   "language": "python",
   "name": "python3"
  },
  "language_info": {
   "codemirror_mode": {
    "name": "ipython",
    "version": 3
   },
   "file_extension": ".py",
   "mimetype": "text/x-python",
   "name": "python",
   "nbconvert_exporter": "python",
   "pygments_lexer": "ipython3",
   "version": "3.8.8"
  }
 },
 "nbformat": 4,
 "nbformat_minor": 5
}
