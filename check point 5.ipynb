{
 "cells": [
  {
   "cell_type": "code",
   "execution_count": 2,
   "id": "e5e352b2",
   "metadata": {},
   "outputs": [
    {
     "name": "stdout",
     "output_type": "stream",
     "text": [
      "The list is [1 2 3 4 5 6 7 8 9]\n"
     ]
    }
   ],
   "source": [
    "import numpy as np\n",
    "new_array=np.array([1,2,3,4,5,6,7,8,9])\n",
    "num_list=new_array .tolist()\n",
    "print(\"The list is\", new_array)\n"
   ]
  },
  {
   "cell_type": "code",
   "execution_count": 8,
   "id": "58a5fa9f",
   "metadata": {},
   "outputs": [
    {
     "name": "stdout",
     "output_type": "stream",
     "text": [
      "The sum of the diagonal elements 12\n"
     ]
    }
   ],
   "source": [
    "import numpy as np\n",
    "a = np.arange(9).reshape(3,3)\n",
    "result = np.trace(a)\n",
    "print(\"The sum of the diagonal elements\", result)"
   ]
  },
  {
   "cell_type": "code",
   "execution_count": 14,
   "id": "b27941a7",
   "metadata": {},
   "outputs": [
    {
     "name": "stdout",
     "output_type": "stream",
     "text": [
      "the values higher than [3 5]\n"
     ]
    }
   ],
   "source": [
    "import numpy as np\n",
    "x = np.array([[1,2],[3,5]])\n",
    "print(\"the values higher than\",x[x>=3] )\n"
   ]
  },
  {
   "cell_type": "code",
   "execution_count": 24,
   "id": "c2cd9c1f",
   "metadata": {},
   "outputs": [
    {
     "name": "stdout",
     "output_type": "stream",
     "text": [
      "[[12 16]\n",
      " [20 24]]\n"
     ]
    }
   ],
   "source": [
    "import numpy as np\n",
    "a = np.array([[2,4],[6,8]])\n",
    "b = np.array([[10,12],[14,16]])\n",
    "c = np.add(a,b)\n",
    "print(c)\n"
   ]
  },
  {
   "cell_type": "code",
   "execution_count": 25,
   "id": "d34daf81",
   "metadata": {},
   "outputs": [
    {
     "name": "stdout",
     "output_type": "stream",
     "text": [
      "[[ 0.49825115 -0.36393338  0.1753709  -0.30968867]\n",
      " [ 0.24046362 -0.25288661  0.09690292 -0.08447993]\n",
      " [-0.03624886 -0.05142115  0.09139475 -0.00372474]]\n"
     ]
    }
   ],
   "source": [
    "import numpy as np\n",
    "a = np.random.rand(3,4)\n",
    "b = a-a.mean(axis=1, keepdims=True)\n",
    "print(b)\n"
   ]
  }
 ],
 "metadata": {
  "kernelspec": {
   "display_name": "Python 3",
   "language": "python",
   "name": "python3"
  },
  "language_info": {
   "codemirror_mode": {
    "name": "ipython",
    "version": 3
   },
   "file_extension": ".py",
   "mimetype": "text/x-python",
   "name": "python",
   "nbconvert_exporter": "python",
   "pygments_lexer": "ipython3",
   "version": "3.8.8"
  }
 },
 "nbformat": 4,
 "nbformat_minor": 5
}
