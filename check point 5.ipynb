{
 "cells": [
  {
   "cell_type": "code",
   "execution_count": 2,
   "id": "2309e0bd",
   "metadata": {},
   "outputs": [
    {
     "name": "stdout",
     "output_type": "stream",
     "text": [
      "The list is [1 2 3 4 5 6 7 8 9]\n"
     ]
    }
   ],
   "source": [
    "import numpy as np\n",
    "new_array=np.array([1,2,3,4,5,6,7,8,9])\n",
    "num_list=new_array .tolist()\n",
    "print(\"The list is\", new_array)\n"
   ]
  },
  {
   "cell_type": "code",
   "execution_count": 8,
   "id": "d65b3eb7",
   "metadata": {},
   "outputs": [
    {
     "name": "stdout",
     "output_type": "stream",
     "text": [
      "The sum of the diagonal elements 12\n"
     ]
    }
   ],
   "source": [
    "import numpy as np\n",
    "a = np.arange(9).reshape(3,3)\n",
    "result = np.trace(a)\n",
    "print(\"The sum of the diagonal elements\", result)"
   ]
  },
  {
   "cell_type": "code",
   "execution_count": 14,
   "id": "ee53a591",
   "metadata": {},
   "outputs": [
    {
     "name": "stdout",
     "output_type": "stream",
     "text": [
      "the values higher than [3 5]\n"
     ]
    }
   ],
   "source": [
    "import numpy as np\n",
    "x = np.array([[1,2],[3,5]])\n",
    "print(\"the values higher than\",x[x>=3] )\n"
   ]
  },
  {
   "cell_type": "code",
   "execution_count": 16,
   "id": "ecf15f15",
   "metadata": {},
   "outputs": [
    {
     "name": "stdout",
     "output_type": "stream",
     "text": [
      "[[12 16]\n",
      " [20 24]]\n"
     ]
    }
   ],
   "source": [
    "import numpy as np\n",
    "a = np.array([[2,4],[6,8]])\n",
    "b = np.array([[10,12],[14,16]])\n",
    "c = np.add(a,b)\n",
    "print(c)\n"
   ]
  },
  {
   "cell_type": "code",
   "execution_count": 17,
   "id": "82c7b111",
   "metadata": {},
   "outputs": [
    {
     "name": "stdout",
     "output_type": "stream",
     "text": [
      "[[ 0.0374537   0.28601688 -0.17337717 -0.15009341]\n",
      " [-0.18667971 -0.364422    0.2962274   0.25487432]\n",
      " [ 0.13552942 -0.38751625  0.29023431 -0.03824748]]\n"
     ]
    }
   ],
   "source": [
    "import numpy as np\n",
    "a = np.random.rand(3,4)\n",
    "b = a-a.mean(axis=1, keepdims=True)\n",
    "print(b)\n"
   ]
  },
  {
   "cell_type": "code",
   "execution_count": null,
   "id": "e4456446",
   "metadata": {},
   "outputs": [],
   "source": []
  }
 ],
 "metadata": {
  "kernelspec": {
   "display_name": "Python 3",
   "language": "python",
   "name": "python3"
  },
  "language_info": {
   "codemirror_mode": {
    "name": "ipython",
    "version": 3
   },
   "file_extension": ".py",
   "mimetype": "text/x-python",
   "name": "python",
   "nbconvert_exporter": "python",
   "pygments_lexer": "ipython3",
   "version": "3.8.8"
  }
 },
 "nbformat": 4,
 "nbformat_minor": 5
}
